{
 "cells": [
  {
   "cell_type": "code",
   "execution_count": 41,
   "id": "8409f1f1",
   "metadata": {},
   "outputs": [],
   "source": [
    "# Question1:- Complected User will input (3ages).Find the oldest one\n",
    "\n",
    "# Case1 when the user will input all three values  at a single time \n",
    "\n",
    "# age = input('Enter 3 ages and seperate them with spaces')\n",
    "# seperate = age.split(' ')\n",
    "# seperate.sort()\n",
    "# print(seperate[-1])\n",
    "\n",
    "\n",
    "# Case2 when the user input 3 values at three different time \n",
    "\n",
    "# arrange = []\n",
    "# age1 = int(input('enter 1st age: '))\n",
    "# age2 = int(input('enter 2nd age: '))\n",
    "# age3 = int(input('enter 3rd age: '))\n",
    "# arrange.append(age1)\n",
    "# arrange.append(age2)\n",
    "# arrange.append(age3)\n",
    "# arrange.sort()\n",
    "# print(arrange[-1])"
   ]
  },
  {
   "cell_type": "code",
   "execution_count": 42,
   "id": "d9453da8",
   "metadata": {},
   "outputs": [],
   "source": [
    "# Question2 complected  Write a program that will convert celsius value to fahrenheit\n",
    "\n",
    "# temp = int(input('Enter Celsius temperature that needs to be converted into fahrenheit'))\n",
    "# final_fahrenheit = (temp*1.8) + 32\n",
    "# print(final_fahrenheit)"
   ]
  },
  {
   "cell_type": "code",
   "execution_count": 43,
   "id": "e48613c1",
   "metadata": {},
   "outputs": [],
   "source": [
    "# Question 3 Complected  User will input (2numbers).Write a program to swap the numbers\n",
    "\n",
    "# number = input('Enter A 2  digit number')\n",
    "# listing = list(number)\n",
    "# listing.reverse()\n",
    "# final = listing[0] + listing[1]\n",
    "# print(final)"
   ]
  },
  {
   "cell_type": "code",
   "execution_count": 44,
   "id": "828fd8b3",
   "metadata": {},
   "outputs": [],
   "source": [
    "# Question 4  Write a program that will give you the sum of 3 digits\n",
    "\n",
    "# digit1 = int(input('Enter 1st Numeber:'))\n",
    "# digit2 = int(input('enter 2nd Number: '))\n",
    "# digit3 = int(input('Enter 3rd Numeber: '))\n",
    "# print(digit1 + digit2 + digit3)"
   ]
  },
  {
   "cell_type": "code",
   "execution_count": 45,
   "id": "a00d8290",
   "metadata": {},
   "outputs": [],
   "source": [
    "# Question 5  Write a program that will reverse a four digit number.Also it checks whether the reverse is true.\n",
    "\n",
    "# number = input('enter aa 4 digit number: ')\n",
    "# final = number[-1] + number[-2] + number[-3] + number[-4]\n",
    "# if final == number:\n",
    "#     print(True)\n",
    "#     print(final)\n",
    "# else:\n",
    "#     print(False)\n",
    "#     print(final)"
   ]
  },
  {
   "cell_type": "code",
   "execution_count": 46,
   "id": "2d870d53",
   "metadata": {},
   "outputs": [],
   "source": [
    "# Question 6 Complected Write a program that will tell whether the number entered by the user is odd or even.\n",
    "\n",
    "# number = int(input(\"Enter A Number: \"))\n",
    "# if(number%2 == 0):\n",
    "#     print('even')\n",
    "# else:\n",
    "#     print('odd')\n"
   ]
  },
  {
   "cell_type": "code",
   "execution_count": null,
   "id": "b32e17f0",
   "metadata": {},
   "outputs": [],
   "source": [
    "# Question 7  Write a program that will tell whether the given year is a leap year or not."
   ]
  },
  {
   "cell_type": "code",
   "execution_count": null,
   "id": "f4ec39cd",
   "metadata": {},
   "outputs": [],
   "source": []
  },
  {
   "cell_type": "code",
   "execution_count": null,
   "id": "027ecdd9",
   "metadata": {},
   "outputs": [],
   "source": []
  },
  {
   "cell_type": "code",
   "execution_count": null,
   "id": "d9d2758a",
   "metadata": {},
   "outputs": [],
   "source": []
  },
  {
   "cell_type": "code",
   "execution_count": null,
   "id": "c3c4a008",
   "metadata": {},
   "outputs": [],
   "source": []
  },
  {
   "cell_type": "code",
   "execution_count": null,
   "id": "a4e853ad",
   "metadata": {},
   "outputs": [],
   "source": []
  },
  {
   "cell_type": "code",
   "execution_count": null,
   "id": "85c43a36",
   "metadata": {},
   "outputs": [],
   "source": []
  },
  {
   "cell_type": "code",
   "execution_count": null,
   "id": "3f7afda4",
   "metadata": {},
   "outputs": [],
   "source": []
  },
  {
   "cell_type": "code",
   "execution_count": null,
   "id": "0a0d63d4",
   "metadata": {},
   "outputs": [],
   "source": []
  },
  {
   "cell_type": "code",
   "execution_count": null,
   "id": "05bddf1c",
   "metadata": {},
   "outputs": [],
   "source": []
  },
  {
   "cell_type": "code",
   "execution_count": null,
   "id": "0a9ad91b",
   "metadata": {},
   "outputs": [],
   "source": []
  },
  {
   "cell_type": "code",
   "execution_count": null,
   "id": "25793cfc",
   "metadata": {},
   "outputs": [],
   "source": []
  },
  {
   "cell_type": "code",
   "execution_count": null,
   "id": "c4eca478",
   "metadata": {},
   "outputs": [],
   "source": []
  },
  {
   "cell_type": "code",
   "execution_count": null,
   "id": "cd5a3246",
   "metadata": {},
   "outputs": [],
   "source": []
  },
  {
   "cell_type": "code",
   "execution_count": null,
   "id": "1f2aa31d",
   "metadata": {},
   "outputs": [],
   "source": []
  }
 ],
 "metadata": {
  "kernelspec": {
   "display_name": "Python 3 (ipykernel)",
   "language": "python",
   "name": "python3"
  },
  "language_info": {
   "codemirror_mode": {
    "name": "ipython",
    "version": 3
   },
   "file_extension": ".py",
   "mimetype": "text/x-python",
   "name": "python",
   "nbconvert_exporter": "python",
   "pygments_lexer": "ipython3",
   "version": "3.9.13"
  }
 },
 "nbformat": 4,
 "nbformat_minor": 5
}
